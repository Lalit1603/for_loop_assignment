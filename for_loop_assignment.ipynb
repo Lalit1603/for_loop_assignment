{
 "cells": [
  {
   "cell_type": "code",
   "execution_count": 2,
   "id": "766ad184",
   "metadata": {},
   "outputs": [
    {
     "name": "stdout",
     "output_type": "stream",
     "text": [
      "1 2 3 4 5 6 7 8 9 10 "
     ]
    }
   ],
   "source": [
    "#1. Write a Python program to print the numbers from 1 to 10 using a `for` loop.\n",
    "var1=range(1,11)\n",
    "for i in var1:\n",
    "    print(i,end=' ')"
   ]
  },
  {
   "cell_type": "code",
   "execution_count": 3,
   "id": "ab232422",
   "metadata": {},
   "outputs": [
    {
     "data": {
      "text/plain": [
       "50"
      ]
     },
     "execution_count": 3,
     "metadata": {},
     "output_type": "execute_result"
    }
   ],
   "source": [
    "#2. Create a program that calculates the sum of all numbers in a list using a `for` loop.\n",
    "def sumofAllElements(l1):\n",
    "    sum=0\n",
    "    for i in l1:\n",
    "        sum+=i\n",
    "    return sum\n",
    "sumofAllElements([2,22,1,11,3,11])"
   ]
  },
  {
   "cell_type": "code",
   "execution_count": 6,
   "id": "c24636cf",
   "metadata": {},
   "outputs": [
    {
     "name": "stdout",
     "output_type": "stream",
     "text": [
      "tilal"
     ]
    }
   ],
   "source": [
    "#3. Write a program to print the characters of a string in reverse order using a `for` loop.\n",
    "var2=\"lalit\"\n",
    "var3=var2[::-1]\n",
    "for i in var3:\n",
    "    print(i,end='')"
   ]
  },
  {
   "cell_type": "code",
   "execution_count": 8,
   "id": "d876fd7d",
   "metadata": {},
   "outputs": [
    {
     "name": "stdout",
     "output_type": "stream",
     "text": [
      "120\n"
     ]
    }
   ],
   "source": [
    "#4. Develop a program that finds the factorial of a given number using a `for` loop.\n",
    "\n",
    "n=5\n",
    "fact=1\n",
    "for i in range(1,n+1):\n",
    "    fact*=i\n",
    "print(fact)"
   ]
  },
  {
   "cell_type": "code",
   "execution_count": 9,
   "id": "4e77f051",
   "metadata": {},
   "outputs": [
    {
     "name": "stdout",
     "output_type": "stream",
     "text": [
      "10 X 1  =  10\n",
      "10 X 2  =  20\n",
      "10 X 3  =  30\n",
      "10 X 4  =  40\n",
      "10 X 5  =  50\n",
      "10 X 6  =  60\n",
      "10 X 7  =  70\n",
      "10 X 8  =  80\n",
      "10 X 9  =  90\n",
      "10 X 10  =  100\n"
     ]
    }
   ],
   "source": [
    "#5. Create a program to print the multiplication table of a given number using a `for` loop.\n",
    "n=10\n",
    "for i in range(1,11):\n",
    "    print(n,\"X\",i,\" = \",n*i)"
   ]
  },
  {
   "cell_type": "code",
   "execution_count": 11,
   "id": "a1825b5c",
   "metadata": {},
   "outputs": [
    {
     "name": "stdout",
     "output_type": "stream",
     "text": [
      "Even [2, 4, 6, 8, 10]\n",
      "Odd [1, 3, 5, 7, 9]\n"
     ]
    }
   ],
   "source": [
    "#6. Write a program that counts the number of even and odd numbers in a list using a `for` loop.\n",
    "l1=[1,2,3,4,5,6,7,8,9,10]\n",
    "even=[]\n",
    "odd=[]\n",
    "for i in l1:\n",
    "    if i%2==0:\n",
    "        even.append(i)\n",
    "    else:\n",
    "        odd.append(i)\n",
    "print(\"Even\",even)\n",
    "print(\"Odd\",odd)"
   ]
  },
  {
   "cell_type": "code",
   "execution_count": 13,
   "id": "05692c2b",
   "metadata": {},
   "outputs": [
    {
     "name": "stdout",
     "output_type": "stream",
     "text": [
      "[1, 4, 9, 16, 25]\n"
     ]
    }
   ],
   "source": [
    "#7. Develop a program that prints the squares of numbers from 1 to 5 using a `for` loop.\n",
    "l1=[i**2 for i in range(1,6)]\n",
    "print(l1)"
   ]
  },
  {
   "cell_type": "code",
   "execution_count": 14,
   "id": "3ea452d6",
   "metadata": {},
   "outputs": [
    {
     "name": "stdout",
     "output_type": "stream",
     "text": [
      "11\n"
     ]
    }
   ],
   "source": [
    "#8. Create a program to find the length of a string without using the `len()` function.\n",
    "a=\"lalitborase\"\n",
    "len_str=0\n",
    "for i in a:\n",
    "    len_str+=1\n",
    "print(len_str)"
   ]
  },
  {
   "cell_type": "code",
   "execution_count": 15,
   "id": "14e37aae",
   "metadata": {},
   "outputs": [
    {
     "name": "stdout",
     "output_type": "stream",
     "text": [
      "33.0\n"
     ]
    }
   ],
   "source": [
    "#9. Write a program that calculates the average of a list of numbers using a `for` loop.\n",
    "l1=[11,22,33,44,55]\n",
    "#average of list=all elements in list + no elements in list\n",
    "sum1=0\n",
    "for i in l1:\n",
    "    sum1+=i\n",
    "print(sum1/len(l1))"
   ]
  },
  {
   "cell_type": "code",
   "execution_count": null,
   "id": "49c64ef7",
   "metadata": {},
   "outputs": [],
   "source": [
    "#10. Develop a program that prints the first `n` Fibonacci numbers using a `for` loop.\n",
    "num1=0\n",
    "num2=1\n"
   ]
  },
  {
   "cell_type": "code",
   "execution_count": 47,
   "id": "cb0e8794",
   "metadata": {},
   "outputs": [
    {
     "name": "stdout",
     "output_type": "stream",
     "text": [
      "List contains duplicates\n"
     ]
    }
   ],
   "source": [
    "#11. Write a program to check if a given list contains any duplicates using a `for` loop.\n",
    "l1=[11,22,33,11,44,55]\n",
    "l2=[]\n",
    "for i in l1:\n",
    "    if i not in l2:\n",
    "        l2.append(i)\n",
    "    else:\n",
    "        print(\"List contains duplicates\")\n"
   ]
  },
  {
   "cell_type": "code",
   "execution_count": 1,
   "id": "c612c707",
   "metadata": {},
   "outputs": [
    {
     "name": "stdout",
     "output_type": "stream",
     "text": [
      "Enter How Many Prime Numbers u Want:15\n",
      "----------------------------------------\n",
      "List of Primes within:15\n",
      "----------------------------------------\n",
      "\t2\n",
      "\t3\n",
      "\t5\n",
      "\t7\n",
      "\t11\n",
      "\t13\n",
      "----------------------------------------\n"
     ]
    }
   ],
   "source": [
    "#12. Create a program that prints the prime numbers in a given range using a `for` loop.\n",
    "n=int(input(\"Enter How Many Prime Numbers u Want:\")) # n=6 ( 2, 3, 5)\n",
    "if(n<=1):\n",
    "\tprint(\"{} is invalid input\".format(n))\n",
    "else:\n",
    "\tprint(\"-\"*40)\n",
    "\tprint(\"List of Primes within:{}\".format(n))\n",
    "\tprint(\"-\"*40)\n",
    "\tfor num in range(2,n+1):\n",
    "\t\tresult=True\n",
    "\t\tfor i in range(2,num):\n",
    "\t\t\tif(num%i==0):\n",
    "\t\t\t\tresult=False\n",
    "\t\t\t\tbreak\n",
    "\t\tif(result==True):\n",
    "\t\t\tprint(\"\\t{}\".format(num))\n",
    "\telse:\n",
    "\t\tprint(\"-\"*40)\n"
   ]
  },
  {
   "cell_type": "code",
   "execution_count": 54,
   "id": "7e68deb4",
   "metadata": {},
   "outputs": [
    {
     "name": "stdout",
     "output_type": "stream",
     "text": [
      "Enter Any String:-borase\n",
      "3\n"
     ]
    }
   ],
   "source": [
    "#13. Develop a program that counts the number of vowels in a string using a `for` loop.\n",
    "vowels=['a','i','o','u','e']\n",
    "given_string=input(\"Enter Any String:-\")\n",
    "countvowel=0\n",
    "for i in given_string:\n",
    "    if i in vowels:\n",
    "        countvowel+=1\n",
    "print(countvowel)"
   ]
  },
  {
   "cell_type": "code",
   "execution_count": 68,
   "id": "1c61c1c9",
   "metadata": {},
   "outputs": [
    {
     "name": "stdout",
     "output_type": "stream",
     "text": [
      "Maximum element for 2D list is- 100\n"
     ]
    }
   ],
   "source": [
    "#14. Write a program to find the maximum element in a 2D list using a nested `for` loop.\n",
    "l1=[[1,2,3],[22,33,11],[77,99,100]]\n",
    "maxelement=l1[0][0]\n",
    "\n",
    "for row in l1:\n",
    "    for element in row:\n",
    "        if element>maxelement:\n",
    "            maxelement = element\n",
    "print(\"Maximum element for 2D list is-\",maxelement)\n",
    "        "
   ]
  },
  {
   "cell_type": "code",
   "execution_count": 72,
   "id": "f72e0c37",
   "metadata": {},
   "outputs": [
    {
     "data": {
      "text/plain": [
       "[2, 3, 4, 5, 6, 7, 8, 9, 10, 22, 22, 44]"
      ]
     },
     "execution_count": 72,
     "metadata": {},
     "output_type": "execute_result"
    }
   ],
   "source": [
    "#15. Create a program that removes all occurrences of a specific element from a list using a `for` loop.\n",
    "l2=[]\n",
    "def removeOccurrences(l1,element):\n",
    "    for i in l1:\n",
    "        if i==element:\n",
    "            l1.remove(i)\n",
    "    return l1\n",
    "\n",
    "\n",
    "l1=[1,2,3,4,5,6,7,8,9,1,10,1,22,22,44,1]\n",
    "element=1\n",
    "removeOccurrences(l1,element)"
   ]
  },
  {
   "cell_type": "code",
   "execution_count": 73,
   "id": "2a3cbbf7",
   "metadata": {},
   "outputs": [
    {
     "name": "stdout",
     "output_type": "stream",
     "text": [
      "1 X 1  =  1\n",
      "1 X 2  =  2\n",
      "1 X 3  =  3\n",
      "1 X 4  =  4\n",
      "1 X 5  =  5\n",
      "1 X 6  =  6\n",
      "1 X 7  =  7\n",
      "1 X 8  =  8\n",
      "1 X 9  =  9\n",
      "1 X 10  =  10\n",
      "2 X 1  =  2\n",
      "2 X 2  =  4\n",
      "2 X 3  =  6\n",
      "2 X 4  =  8\n",
      "2 X 5  =  10\n",
      "2 X 6  =  12\n",
      "2 X 7  =  14\n",
      "2 X 8  =  16\n",
      "2 X 9  =  18\n",
      "2 X 10  =  20\n",
      "3 X 1  =  3\n",
      "3 X 2  =  6\n",
      "3 X 3  =  9\n",
      "3 X 4  =  12\n",
      "3 X 5  =  15\n",
      "3 X 6  =  18\n",
      "3 X 7  =  21\n",
      "3 X 8  =  24\n",
      "3 X 9  =  27\n",
      "3 X 10  =  30\n",
      "4 X 1  =  4\n",
      "4 X 2  =  8\n",
      "4 X 3  =  12\n",
      "4 X 4  =  16\n",
      "4 X 5  =  20\n",
      "4 X 6  =  24\n",
      "4 X 7  =  28\n",
      "4 X 8  =  32\n",
      "4 X 9  =  36\n",
      "4 X 10  =  40\n",
      "5 X 1  =  5\n",
      "5 X 2  =  10\n",
      "5 X 3  =  15\n",
      "5 X 4  =  20\n",
      "5 X 5  =  25\n",
      "5 X 6  =  30\n",
      "5 X 7  =  35\n",
      "5 X 8  =  40\n",
      "5 X 9  =  45\n",
      "5 X 10  =  50\n"
     ]
    }
   ],
   "source": [
    "#16. Develop a program that generates a multiplication table for numbers from 1 to 5 using a nested `for` loop.\n",
    "for i in range(1,6):\n",
    "    for j in range(1,11):\n",
    "        print(i,\"X\",j,\" = \",i*j)\n",
    "        "
   ]
  },
  {
   "cell_type": "code",
   "execution_count": 79,
   "id": "293df48e",
   "metadata": {},
   "outputs": [
    {
     "name": "stdout",
     "output_type": "stream",
     "text": [
      "[0.56, 31.67, -11.11, 5.0, 6.11, 18.89]\n"
     ]
    }
   ],
   "source": [
    "#17. Write a program that converts a list of Fahrenheit temperatures to Celsius using a `for` loop.\n",
    "l2=[]\n",
    "def converto_Celsius(l1):\n",
    "    for i in l1:\n",
    "        celcius=round((i-32)* 5/9,2)\n",
    "        l2.append(celcius)\n",
    "    print(l2)\n",
    "l1=[33,89,12,41,43,66]\n",
    "converto_Celsius(l1) \n"
   ]
  },
  {
   "cell_type": "code",
   "execution_count": 83,
   "id": "67ace497",
   "metadata": {},
   "outputs": [
    {
     "name": "stdout",
     "output_type": "stream",
     "text": [
      "common elements from two lists are:- 44\n"
     ]
    }
   ],
   "source": [
    "#18. Create a program to print the common elements from two lists using a `for` loop.\n",
    "l1=[11,22,33,44]\n",
    "l2=[55,99,44,88]\n",
    "for i in l1:\n",
    "    if i in l2:\n",
    "        print(\"common elements from two lists are:-\",i)"
   ]
  },
  {
   "cell_type": "code",
   "execution_count": 87,
   "id": "cf9b3a7e",
   "metadata": {},
   "outputs": [
    {
     "name": "stdout",
     "output_type": "stream",
     "text": [
      "*\n",
      "**\n",
      "***\n",
      "****\n",
      "*****\n",
      "******\n",
      "*******\n",
      "********\n",
      "*********\n",
      "**********\n",
      "***********\n"
     ]
    }
   ],
   "source": [
    "#19. Develop a program that prints the pattern of right-angled triangles using a `for` loop. Use ‘*’ to draw the\n",
    "#pattern\n",
    "for i in range(1,12):\n",
    "    print(\"*\" * i)"
   ]
  },
  {
   "cell_type": "code",
   "execution_count": 88,
   "id": "1efb73fa",
   "metadata": {},
   "outputs": [
    {
     "name": "stdout",
     "output_type": "stream",
     "text": [
      "GCD of  36 and 60 is 12\n"
     ]
    }
   ],
   "source": [
    "#20. Write a program to find the greatest common divisor (GCD) of two numbers using a `for` loop.\n",
    "num1=36\n",
    "num2=60\n",
    "gcd=1\n",
    "for i in range(1,min(num1,num2)):\n",
    "    if num1 % i == 0 and num2 % i == 0:\n",
    "        gcd=i\n",
    "print(\"GCD of \",num1,\"and\",num2,\"is\",gcd)"
   ]
  },
  {
   "cell_type": "code",
   "execution_count": 105,
   "id": "bbfb996b",
   "metadata": {},
   "outputs": [
    {
     "name": "stdout",
     "output_type": "stream",
     "text": [
      "[6, 15, 24]\n"
     ]
    }
   ],
   "source": [
    "# 21. Create a program that calculates the sum of the digits of numbers in a list using a list comprehension.\n",
    "def digit_sum(number_list):\n",
    "    return sum(int(digit)for digit in str(number_list))\n",
    "number_list=[123,456,789]\n",
    "sum_of_digits=[digit_sum(num) for num in number_list]\n",
    "print(sum_of_digits)\n",
    "    "
   ]
  },
  {
   "cell_type": "code",
   "execution_count": 2,
   "id": "656f7a56",
   "metadata": {},
   "outputs": [
    {
     "name": "stdout",
     "output_type": "stream",
     "text": [
      "Enter a number to find its prime factors: 60\n",
      "Prime factors of 60: [2, 3, 5]\n"
     ]
    }
   ],
   "source": [
    "#22.Write a program to find the prime factors of a given number using a for loop and list comprehension.\n",
    "def prime_factors(n):\n",
    "    factors = [i for i in range(2, n + 1) if n % i == 0 and all(i % j != 0 for j in range(2, int(i**0.5) + 1))]\n",
    "    return factors\n",
    "\n",
    "# Get user input\n",
    "number = int(input(\"Enter a number to find its prime factors: \"))\n",
    "\n",
    "# Find and print prime factors\n",
    "result = prime_factors(number)\n",
    "print(f\"Prime factors of {number}: {result}\")\n"
   ]
  },
  {
   "cell_type": "code",
   "execution_count": 119,
   "id": "404af12d",
   "metadata": {},
   "outputs": [
    {
     "name": "stdout",
     "output_type": "stream",
     "text": [
      "[1, 2, 3, 89, 23, 33]\n"
     ]
    }
   ],
   "source": [
    "#23. Develop a program that extracts unique elements from a list and stores them in a new list using a list comprehension.\n",
    "l1=[1,2,3,1,89,23,2,33]\n",
    "l2=[x for i,x in enumerate(l1) if x not in l1[:i]]\n",
    "print(l2)"
   ]
  },
  {
   "cell_type": "code",
   "execution_count": 125,
   "id": "dee1ba28",
   "metadata": {},
   "outputs": [
    {
     "name": "stdout",
     "output_type": "stream",
     "text": [
      "[1, 2, 3, 4, 5, 6, 7, 8, 9, 11, 22, 33, 44, 55, 66, 77, 88, 99, 101, 111, 121, 131, 141, 151, 161, 171, 181, 191, 202, 212, 222, 232, 242, 252, 262, 272, 282, 292, 303, 313, 323, 333, 343, 353, 363, 373, 383, 393]\n"
     ]
    }
   ],
   "source": [
    "#24. Create a program that generates a list of all palindromic numbers up to a specified limit using a list\n",
    "#comprehension.\n",
    "n=400\n",
    "l1=[i for i in range(1,n+1) if str(i)==str(i)[::-1]]\n",
    "print(l1)"
   ]
  },
  {
   "cell_type": "code",
   "execution_count": 24,
   "id": "4af9af81",
   "metadata": {},
   "outputs": [
    {
     "name": "stdout",
     "output_type": "stream",
     "text": [
      "Original nested list: [1, [2, 3, [4, 5]], 6, [7, [8, 9]]]\n",
      "Completely flattened list: [1, 2, 3, 4, 5, 6, 7, 8, 9]\n"
     ]
    }
   ],
   "source": [
    "#25. Write a program to flatten a nested list using list comprehension\n",
    "def flatten_nested_list(nested_list):\n",
    "    flattened_list = []\n",
    "    for element in nested_list:\n",
    "        if isinstance(element, list):\n",
    "            flattened_list.extend(flatten_nested_list(element))\n",
    "        else:\n",
    "            flattened_list.append(element)\n",
    "    return flattened_list\n",
    "\n",
    "# Example nested list\n",
    "nested_list = [1, [2, 3, [4, 5]], 6, [7, [8, 9]]]\n",
    "\n",
    "# Flatten the nested list\n",
    "flattened_list = flatten_nested_list(nested_list)\n",
    "\n",
    "# Print the result\n",
    "print(f\"Original nested list: {nested_list}\")\n",
    "print(f\"Completely flattened list: {flattened_list}\")\n"
   ]
  },
  {
   "cell_type": "code",
   "execution_count": 129,
   "id": "b4a5fbc7",
   "metadata": {},
   "outputs": [
    {
     "name": "stdout",
     "output_type": "stream",
     "text": [
      "Sum of even Numbers 52\n",
      "Sum of Odd Numbers 69\n"
     ]
    }
   ],
   "source": [
    "#26. Develop a program that computes the sum of even and odd numbers in a list separately using list\n",
    "#comprehension.\n",
    "l1=[1,2,3,4,5,6,7,8,9,10,11,22,33]\n",
    "even=sum(i for i in l1 if i%2==0)\n",
    "odd=sum(i for i in l1 if i%2!=0)\n",
    "print(\"Sum of even Numbers\",even)\n",
    "print(\"Sum of Odd Numbers\",odd)"
   ]
  },
  {
   "cell_type": "code",
   "execution_count": 131,
   "id": "d23368ec",
   "metadata": {},
   "outputs": [
    {
     "name": "stdout",
     "output_type": "stream",
     "text": [
      "[1, 9, 25, 49, 81]\n"
     ]
    }
   ],
   "source": [
    "#27. Create a program that generates a list of squares of odd numbers between 1 and 10 using list\n",
    "#comprehension.\n",
    "l1=[i**2 for i in range(1,11) if i%2!=0]\n",
    "print(l1)"
   ]
  },
  {
   "cell_type": "code",
   "execution_count": 133,
   "id": "a3dba296",
   "metadata": {},
   "outputs": [
    {
     "data": {
      "text/plain": [
       "{11: 1, 22: 2, 33: 3, 44: 4, 55: 5}"
      ]
     },
     "execution_count": 133,
     "metadata": {},
     "output_type": "execute_result"
    }
   ],
   "source": [
    "#28. Write a program that combines two lists into a dictionary using list comprehension.\n",
    "l1=[11,22,33,44,55]\n",
    "l2=[1,2,3,4,5]\n",
    "result={key:value for key,value in zip(l1,l2)}\n",
    "result"
   ]
  },
  {
   "cell_type": "code",
   "execution_count": 135,
   "id": "a969a0cc",
   "metadata": {},
   "outputs": [
    {
     "data": {
      "text/plain": [
       "['o', 'a', 'e']"
      ]
     },
     "execution_count": 135,
     "metadata": {},
     "output_type": "execute_result"
    }
   ],
   "source": [
    "#29. Develop a program that extracts the vowels from a string and stores them in a list using list comprehension.\n",
    "st=\"borase\"\n",
    "l1=[i for i in st if i in vowels]\n",
    "l1"
   ]
  },
  {
   "cell_type": "code",
   "execution_count": 137,
   "id": "fbd79485",
   "metadata": {},
   "outputs": [
    {
     "data": {
      "text/plain": [
       "['1 2 3', '4 5 6', '7 8 9']"
      ]
     },
     "execution_count": 137,
     "metadata": {},
     "output_type": "execute_result"
    }
   ],
   "source": [
    "#30. Create a program that removes all non-numeric characters from a list of strings using list comprehension.\n",
    "s1=['abc123','456def','!@#789']\n",
    "numeric_strings=[\" \".join(char for char in string if char.isdigit()) for string in s1]\n",
    "numeric_strings"
   ]
  },
  {
   "cell_type": "code",
   "execution_count": 7,
   "id": "f9210940",
   "metadata": {},
   "outputs": [
    {
     "name": "stdout",
     "output_type": "stream",
     "text": [
      "Enter the limit to generate prime numbers: 100\n",
      "Prime numbers up to 100: [2, 3, 5, 7, 11, 13, 17, 19, 23, 29, 31, 37, 41, 43, 47, 53, 59, 61, 67, 71, 73, 79, 83, 89, 97]\n"
     ]
    }
   ],
   "source": [
    "#31.Write a program to generate a list of prime numbers using the Sieve of Eratosthenes algorithm and list comprehension.\n",
    "def sieve_of_eratosthenes(limit):\n",
    "    sieve = [True] * (limit + 1)\n",
    "    sieve[0], sieve[1] = False, False  # 0 and 1 are not prime\n",
    "\n",
    "    for num in range(2, int(limit**0.5) + 1):\n",
    "        if sieve[num]:\n",
    "            sieve[num*num : limit + 1 : num] = [False] * len(sieve[num*num : limit + 1 : num])\n",
    "\n",
    "    primes = [num for num in range(2, limit + 1) if sieve[num]]\n",
    "    return primes\n",
    "\n",
    "# Get user input for the limit\n",
    "limit = int(input(\"Enter the limit to generate prime numbers: \"))\n",
    "\n",
    "# Generate and print the list of prime numbers up to the given limit\n",
    "result = sieve_of_eratosthenes(limit)\n",
    "print(f\"Prime numbers up to {limit}: {result}\")\n"
   ]
  },
  {
   "cell_type": "code",
   "execution_count": 9,
   "id": "99bf567f",
   "metadata": {},
   "outputs": [
    {
     "name": "stdout",
     "output_type": "stream",
     "text": [
      "Enter the limit to generate Pythagorean triplets: 50\n",
      "Pythagorean triplets up to 50: [(3, 4, 5), (5, 12, 13), (6, 8, 10), (7, 24, 25), (8, 15, 17), (9, 12, 15), (9, 40, 41), (10, 24, 26), (12, 16, 20), (12, 35, 37), (14, 48, 50), (15, 20, 25), (15, 36, 39), (16, 30, 34), (18, 24, 30), (20, 21, 29), (21, 28, 35), (24, 32, 40), (27, 36, 45), (30, 40, 50)]\n"
     ]
    }
   ],
   "source": [
    "#32.Create a program that generates a list of all Pythagorean triplets up to a specified limit using list comprehension.\n",
    "def pythagorean_triplets(limit):\n",
    "    triplets = [(a, b, c) for a in range(1, limit + 1) for b in range(a, limit + 1) for c in range(b, limit + 1) if a**2 + b**2 == c**2]\n",
    "    return triplets\n",
    "\n",
    "# Get user input for the limit\n",
    "limit = int(input(\"Enter the limit to generate Pythagorean triplets: \"))\n",
    "\n",
    "# Generate and print the list of Pythagorean triplets up to the given limit\n",
    "result = pythagorean_triplets(limit)\n",
    "print(f\"Pythagorean triplets up to {limit}: {result}\")\n"
   ]
  },
  {
   "cell_type": "code",
   "execution_count": 16,
   "id": "bc6891db",
   "metadata": {},
   "outputs": [
    {
     "name": "stdout",
     "output_type": "stream",
     "text": [
      "All possible combinations:\n",
      "(1, 'a')\n",
      "(1, 'b')\n",
      "(1, 'c')\n",
      "(2, 'a')\n",
      "(2, 'b')\n",
      "(2, 'c')\n",
      "(3, 'a')\n",
      "(3, 'b')\n",
      "(3, 'c')\n"
     ]
    }
   ],
   "source": [
    "#33. Develop a program that generates a list of all possible combinations of two lists using list comprehension.\n",
    "# Example lists\n",
    "list1 = [1, 2, 3]\n",
    "list2 = ['a', 'b', 'c']\n",
    "\n",
    "# Generate all possible combinations using list comprehension\n",
    "combinations = [(x, y) for x in list1 for y in list2]\n",
    "\n",
    "# Print the result\n",
    "print(\"All possible combinations:\")\n",
    "for combination in combinations:\n",
    "    print(combination)\n"
   ]
  },
  {
   "cell_type": "code",
   "execution_count": 17,
   "id": "e6a5848f",
   "metadata": {},
   "outputs": [
    {
     "name": "stdout",
     "output_type": "stream",
     "text": [
      "List of numbers: [2, 4, 3, 5, 6, 4, 8, 7, 9, 4, 1, 2, 6, 3, 5]\n",
      "Mean: 4.6\n",
      "Median: 4\n",
      "Mode: 4\n"
     ]
    }
   ],
   "source": [
    "#34. Write a program that calculates the mean, median, and mode of a list of numbers using list\n",
    "#comprehension\n",
    "from statistics import mean, median, mode\n",
    "\n",
    "# Example list of numbers\n",
    "numbers = [2, 4, 3, 5, 6, 4, 8, 7, 9, 4, 1, 2, 6, 3, 5]\n",
    "\n",
    "# Calculate mean, median, and mode using list comprehension\n",
    "list_mean = mean(numbers)\n",
    "list_median = median(numbers)\n",
    "list_mode = mode(numbers)\n",
    "\n",
    "# Print the results\n",
    "print(f\"List of numbers: {numbers}\")\n",
    "print(f\"Mean: {list_mean}\")\n",
    "print(f\"Median: {list_median}\")\n",
    "print(f\"Mode: {list_mode}\")\n"
   ]
  },
  {
   "cell_type": "code",
   "execution_count": 22,
   "id": "a98c72bc",
   "metadata": {},
   "outputs": [
    {
     "name": "stdout",
     "output_type": "stream",
     "text": [
      "Enter the number of rows for Pascal's triangle: 10\n",
      "[1]\n",
      "[1, 1]\n",
      "[1, 2, 1]\n",
      "[1, 3, 3, 1]\n",
      "[1, 4, 6, 4, 1]\n",
      "[1, 5, 10, 10, 5, 1]\n",
      "[1, 6, 15, 20, 15, 6, 1]\n",
      "[1, 7, 21, 35, 35, 21, 7, 1]\n",
      "[1, 8, 28, 56, 70, 56, 28, 8, 1]\n",
      "[1, 9, 36, 84, 126, 126, 84, 36, 9, 1]\n"
     ]
    }
   ],
   "source": [
    "#35. Create a program that generates Pascal's triangle up to a specified number of rows using list\n",
    "#comprehension.\n",
    "def generate_pascals_triangle(rows):\n",
    "    triangle = [[1] * (row + 1) for row in range(rows)]\n",
    "    \n",
    "    for row in range(2, rows):\n",
    "        for i in range(1, row):\n",
    "            triangle[row][i] = triangle[row - 1][i - 1] + triangle[row - 1][i]\n",
    "    \n",
    "    return triangle\n",
    "\n",
    "# Get user input for the number of rows\n",
    "num_rows = int(input(\"Enter the number of rows for Pascal's triangle: \"))\n",
    "\n",
    "# Generate and print Pascal's triangle\n",
    "pascals_triangle = generate_pascals_triangle(num_rows)\n",
    "for row in pascals_triangle:\n",
    "    print(row)\n"
   ]
  },
  {
   "cell_type": "code",
   "execution_count": 14,
   "id": "d13a7a3f",
   "metadata": {},
   "outputs": [
    {
     "name": "stdout",
     "output_type": "stream",
     "text": [
      "Sum of digits for the factorial of 1: 1\n",
      "Sum of digits for the factorial of 2: 2\n",
      "Sum of digits for the factorial of 3: 6\n",
      "Sum of digits for the factorial of 4: 6\n",
      "Sum of digits for the factorial of 5: 3\n"
     ]
    }
   ],
   "source": [
    "#36.Develop a program that calculates the sum of the digits of a factorial of numbers from 1 to 5 using list comprehension.\n",
    "from math import factorial\n",
    "\n",
    "def digit_sum(number):\n",
    "    return sum(int(digit) for digit in str(number))\n",
    "\n",
    "# Calculate the factorial of numbers from 1 to 5 and find the sum of their digits\n",
    "factorial_sums = [digit_sum(factorial(num)) for num in range(1, 6)]\n",
    "\n",
    "# Print the results\n",
    "for num, result in zip(range(1, 6), factorial_sums):\n",
    "    print(f\"Sum of digits for the factorial of {num}: {result}\")\n"
   ]
  },
  {
   "cell_type": "code",
   "execution_count": 1,
   "id": "0ae91fc9",
   "metadata": {},
   "outputs": [
    {
     "name": "stdout",
     "output_type": "stream",
     "text": [
      "Enter a sentence: Jayshree ram jai hanuman\n",
      "The longest word in the sentence is: Jayshree\n"
     ]
    }
   ],
   "source": [
    "#37.Write a program that finds the longest word in a sentence using list comprehension.\n",
    "sentence = input(\"Enter a sentence: \")\n",
    "\n",
    "# Using list comprehension to create a list of words in the sentence\n",
    "words = [word for word in sentence.split()]\n",
    "\n",
    "# Finding the longest word using the max function and len function\n",
    "longest_word = max(words, key=len)\n",
    "\n",
    "print(f\"The longest word in the sentence is: {longest_word}\")\n"
   ]
  },
  {
   "cell_type": "code",
   "execution_count": 6,
   "id": "206c26c5",
   "metadata": {},
   "outputs": [
    {
     "name": "stdout",
     "output_type": "stream",
     "text": [
      "Strings with more than three vowels: ['comprehension']\n"
     ]
    }
   ],
   "source": [
    "#38.Create a program that filters a list of strings to include only those with more than three vowels using list comprehension.\n",
    "def count_vowels(word):\n",
    "    vowels = \"aeiouAEIOU\"\n",
    "    return sum(1 for char in word if char in vowels)\n",
    "\n",
    "# List of strings\n",
    "string_list = [\"hello\", \"world\", \"python\", \"programming\", \"example\", \"list\", \"comprehension\"]\n",
    "\n",
    "# Use list comprehension to filter strings with more than three vowels\n",
    "filtered_list = [word for word in string_list if count_vowels(word) > 3]\n",
    "\n",
    "# Print the filtered list\n",
    "print(f\"Strings with more than three vowels: {filtered_list}\")\n"
   ]
  },
  {
   "cell_type": "code",
   "execution_count": 5,
   "id": "b75abe5d",
   "metadata": {},
   "outputs": [
    {
     "name": "stdout",
     "output_type": "stream",
     "text": [
      "Sum of digits for numbers from 1 to 1000: 13501\n"
     ]
    }
   ],
   "source": [
    "#39.Develop a program that calculates the sum of the digits of numbers from 1 to 1000 using list comprehension\n",
    "def digit_sum(number):\n",
    "    return sum(int(digit) for digit in str(number))\n",
    "\n",
    "# Use list comprehension to calculate the sum of digits for numbers from 1 to 1000\n",
    "sum_of_digits = [digit_sum(num) for num in range(1, 1001)]\n",
    "\n",
    "# Calculate and print the overall sum\n",
    "total_sum = sum(sum_of_digits)\n",
    "print(f\"Sum of digits for numbers from 1 to 1000: {total_sum}\")\n"
   ]
  },
  {
   "cell_type": "code",
   "execution_count": 4,
   "id": "5d55ddc8",
   "metadata": {},
   "outputs": [
    {
     "name": "stdout",
     "output_type": "stream",
     "text": [
      "Enter the limit to generate prime palindromic numbers: 1000\n",
      "Prime palindromic numbers up to 1000: [2, 3, 5, 7, 11, 101, 131, 151, 181, 191, 313, 353, 373, 383, 727, 757, 787, 797, 919, 929]\n"
     ]
    }
   ],
   "source": [
    "#40.Write a program that generates a list of prime palindromic numbers using list comprehension.\n",
    "def is_prime(num):\n",
    "    if num < 2:\n",
    "        return False\n",
    "    for i in range(2, int(num**0.5) + 1):\n",
    "        if num % i == 0:\n",
    "            return False\n",
    "    return True\n",
    "\n",
    "def generate_palindromic_primes(limit):\n",
    "    palindromic_primes = [num for num in range(2, limit) if is_prime(num) and str(num) == str(num)[::-1]]\n",
    "    return palindromic_primes\n",
    "\n",
    "# Get user input for the limit\n",
    "limit = int(input(\"Enter the limit to generate prime palindromic numbers: \"))\n",
    "\n",
    "# Generate and print the list of prime palindromic numbers\n",
    "result = generate_palindromic_primes(limit)\n",
    "print(f\"Prime palindromic numbers up to {limit}: {result}\")\n"
   ]
  },
  {
   "cell_type": "code",
   "execution_count": null,
   "id": "bccea816",
   "metadata": {},
   "outputs": [],
   "source": []
  },
  {
   "cell_type": "code",
   "execution_count": null,
   "id": "b8199524",
   "metadata": {},
   "outputs": [],
   "source": []
  },
  {
   "cell_type": "code",
   "execution_count": null,
   "id": "a8be1a26",
   "metadata": {},
   "outputs": [],
   "source": []
  },
  {
   "cell_type": "code",
   "execution_count": null,
   "id": "5549cb04",
   "metadata": {},
   "outputs": [],
   "source": []
  },
  {
   "cell_type": "code",
   "execution_count": null,
   "id": "c3886dc5",
   "metadata": {},
   "outputs": [],
   "source": []
  },
  {
   "cell_type": "code",
   "execution_count": null,
   "id": "eb7170c2",
   "metadata": {},
   "outputs": [],
   "source": []
  },
  {
   "cell_type": "code",
   "execution_count": null,
   "id": "6464320e",
   "metadata": {},
   "outputs": [],
   "source": []
  },
  {
   "cell_type": "code",
   "execution_count": null,
   "id": "5a2fddf5",
   "metadata": {},
   "outputs": [],
   "source": []
  },
  {
   "cell_type": "code",
   "execution_count": null,
   "id": "c5bd898c",
   "metadata": {},
   "outputs": [],
   "source": []
  },
  {
   "cell_type": "code",
   "execution_count": null,
   "id": "65aa8bea",
   "metadata": {},
   "outputs": [],
   "source": []
  },
  {
   "cell_type": "code",
   "execution_count": null,
   "id": "6a7b4ca8",
   "metadata": {},
   "outputs": [],
   "source": []
  },
  {
   "cell_type": "code",
   "execution_count": null,
   "id": "f3a45bd2",
   "metadata": {},
   "outputs": [],
   "source": []
  },
  {
   "cell_type": "code",
   "execution_count": null,
   "id": "f6f420e4",
   "metadata": {},
   "outputs": [],
   "source": []
  },
  {
   "cell_type": "code",
   "execution_count": null,
   "id": "c45558ad",
   "metadata": {},
   "outputs": [],
   "source": []
  },
  {
   "cell_type": "code",
   "execution_count": null,
   "id": "1cb7b293",
   "metadata": {},
   "outputs": [],
   "source": []
  },
  {
   "cell_type": "code",
   "execution_count": null,
   "id": "80045c88",
   "metadata": {},
   "outputs": [],
   "source": []
  },
  {
   "cell_type": "code",
   "execution_count": null,
   "id": "64c91f3c",
   "metadata": {},
   "outputs": [],
   "source": []
  },
  {
   "cell_type": "code",
   "execution_count": null,
   "id": "3a0bd8c0",
   "metadata": {},
   "outputs": [],
   "source": []
  },
  {
   "cell_type": "code",
   "execution_count": null,
   "id": "757948e0",
   "metadata": {},
   "outputs": [],
   "source": []
  },
  {
   "cell_type": "code",
   "execution_count": null,
   "id": "eaaded0a",
   "metadata": {},
   "outputs": [],
   "source": []
  },
  {
   "cell_type": "code",
   "execution_count": null,
   "id": "b86d5d16",
   "metadata": {},
   "outputs": [],
   "source": []
  },
  {
   "cell_type": "code",
   "execution_count": null,
   "id": "3f4ce7ca",
   "metadata": {},
   "outputs": [],
   "source": []
  },
  {
   "cell_type": "code",
   "execution_count": null,
   "id": "3f5cf79d",
   "metadata": {},
   "outputs": [],
   "source": []
  },
  {
   "cell_type": "code",
   "execution_count": null,
   "id": "6884f74b",
   "metadata": {},
   "outputs": [],
   "source": []
  },
  {
   "cell_type": "code",
   "execution_count": null,
   "id": "422aa7a4",
   "metadata": {},
   "outputs": [],
   "source": []
  },
  {
   "cell_type": "code",
   "execution_count": null,
   "id": "47879af0",
   "metadata": {},
   "outputs": [],
   "source": []
  },
  {
   "cell_type": "code",
   "execution_count": null,
   "id": "f0c6c38d",
   "metadata": {},
   "outputs": [],
   "source": []
  },
  {
   "cell_type": "code",
   "execution_count": null,
   "id": "5f983c11",
   "metadata": {},
   "outputs": [],
   "source": []
  },
  {
   "cell_type": "code",
   "execution_count": null,
   "id": "6e5a6cf1",
   "metadata": {},
   "outputs": [],
   "source": []
  },
  {
   "cell_type": "code",
   "execution_count": null,
   "id": "8263f969",
   "metadata": {},
   "outputs": [],
   "source": []
  },
  {
   "cell_type": "code",
   "execution_count": null,
   "id": "854b594a",
   "metadata": {},
   "outputs": [],
   "source": []
  },
  {
   "cell_type": "code",
   "execution_count": null,
   "id": "6eb718ee",
   "metadata": {},
   "outputs": [],
   "source": []
  },
  {
   "cell_type": "code",
   "execution_count": null,
   "id": "d6911c43",
   "metadata": {},
   "outputs": [],
   "source": []
  },
  {
   "cell_type": "code",
   "execution_count": null,
   "id": "ebaeb243",
   "metadata": {},
   "outputs": [],
   "source": []
  },
  {
   "cell_type": "code",
   "execution_count": null,
   "id": "7b5a9f7f",
   "metadata": {},
   "outputs": [],
   "source": []
  },
  {
   "cell_type": "code",
   "execution_count": null,
   "id": "28598f22",
   "metadata": {},
   "outputs": [],
   "source": []
  },
  {
   "cell_type": "code",
   "execution_count": null,
   "id": "584b278b",
   "metadata": {},
   "outputs": [],
   "source": []
  },
  {
   "cell_type": "code",
   "execution_count": null,
   "id": "80e14a84",
   "metadata": {},
   "outputs": [],
   "source": []
  },
  {
   "cell_type": "code",
   "execution_count": null,
   "id": "7bc547d4",
   "metadata": {},
   "outputs": [],
   "source": []
  },
  {
   "cell_type": "code",
   "execution_count": null,
   "id": "8a863565",
   "metadata": {},
   "outputs": [],
   "source": []
  },
  {
   "cell_type": "code",
   "execution_count": null,
   "id": "5125666a",
   "metadata": {},
   "outputs": [],
   "source": []
  },
  {
   "cell_type": "code",
   "execution_count": null,
   "id": "22f59a5f",
   "metadata": {},
   "outputs": [],
   "source": []
  },
  {
   "cell_type": "code",
   "execution_count": null,
   "id": "9dc4b87a",
   "metadata": {},
   "outputs": [],
   "source": []
  },
  {
   "cell_type": "code",
   "execution_count": null,
   "id": "51180339",
   "metadata": {},
   "outputs": [],
   "source": []
  },
  {
   "cell_type": "code",
   "execution_count": null,
   "id": "a25fea09",
   "metadata": {},
   "outputs": [],
   "source": []
  },
  {
   "cell_type": "code",
   "execution_count": null,
   "id": "88de240a",
   "metadata": {},
   "outputs": [],
   "source": []
  },
  {
   "cell_type": "code",
   "execution_count": null,
   "id": "02f4d4bc",
   "metadata": {},
   "outputs": [],
   "source": []
  },
  {
   "cell_type": "code",
   "execution_count": null,
   "id": "03963fa8",
   "metadata": {},
   "outputs": [],
   "source": []
  }
 ],
 "metadata": {
  "kernelspec": {
   "display_name": "Python 3 (ipykernel)",
   "language": "python",
   "name": "python3"
  },
  "language_info": {
   "codemirror_mode": {
    "name": "ipython",
    "version": 3
   },
   "file_extension": ".py",
   "mimetype": "text/x-python",
   "name": "python",
   "nbconvert_exporter": "python",
   "pygments_lexer": "ipython3",
   "version": "3.11.5"
  }
 },
 "nbformat": 4,
 "nbformat_minor": 5
}
